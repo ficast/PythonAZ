{
 "cells": [
  {
   "cell_type": "code",
   "execution_count": 1,
   "metadata": {
    "collapsed": true
   },
   "outputs": [],
   "source": [
    "#Data \n",
    "revenue = [14574.49, 7606.46, 8611.41, 9175.41, 8058.65, 8105.44, 11496.28, 9766.09, 10305.32, 14379.96, 10713.97, 15433.50]\n",
    "expenses = [12051.82, 5695.07, 12319.20, 12089.72, 8658.57, 840.20, 3285.73, 5821.12, 6976.93, 16618.61, 10054.37, 3803.96]"
   ]
  },
  {
   "cell_type": "code",
   "execution_count": 3,
   "metadata": {},
   "outputs": [],
   "source": [
    "import numpy as np"
   ]
  },
  {
   "cell_type": "code",
   "execution_count": 31,
   "metadata": {},
   "outputs": [
    {
     "output_type": "execute_result",
     "data": {
      "text/plain": [
       "array([14574.49,  7606.46,  8611.41,  9175.41,  8058.65,  8105.44,\n",
       "       11496.28,  9766.09, 10305.32, 14379.96, 10713.97, 15433.5 ])"
      ]
     },
     "metadata": {},
     "execution_count": 31
    }
   ],
   "source": [
    "r = np.array(revenue)\n",
    "r = np.round(r, 2)\n",
    "e = np.array(expenses)\n",
    "e = np.round(e, 2)"
   ]
  },
  {
   "cell_type": "code",
   "execution_count": 32,
   "metadata": {},
   "outputs": [
    {
     "output_type": "execute_result",
     "data": {
      "text/plain": [
       "array([ 2522.67,  1911.39, -3707.79, -2914.31,  -599.92,  7265.24,\n",
       "        8210.55,  3944.97,  3328.39, -2238.65,   659.6 , 11629.54])"
      ]
     },
     "metadata": {},
     "execution_count": 32
    }
   ],
   "source": [
    "profit_for_each_month = r - e\n",
    "np.around(profit_for_each_month, 2)"
   ]
  },
  {
   "cell_type": "code",
   "execution_count": 34,
   "metadata": {},
   "outputs": [
    {
     "output_type": "execute_result",
     "data": {
      "text/plain": [
       "array([-1849.68,  -370.55, -6291.21, -5666.93, -3017.52,  4833.61,\n",
       "        4761.67,  1015.14,   236.79, -6552.64, -2554.59,  6999.49])"
      ]
     },
     "metadata": {},
     "execution_count": 34
    }
   ],
   "source": [
    "profit_after_tax = (r * 0.7) - e\n",
    "np.around(profit_after_tax, 2)"
   ]
  },
  {
   "cell_type": "code",
   "execution_count": 63,
   "metadata": {},
   "outputs": [
    {
     "output_type": "execute_result",
     "data": {
      "text/plain": [
       "array([-0.15, -0.07, -0.51, -0.47, -0.35,  5.75,  1.45,  0.17,  0.03,\n",
       "       -0.39, -0.25,  1.84])"
      ]
     },
     "metadata": {},
     "execution_count": 63
    }
   ],
   "source": [
    "profit_margin_per_month = profit_after_tax/e\n",
    "profit_margin = np.around(profit_margin_per_month, 2)\n",
    "profit_margin"
   ]
  },
  {
   "cell_type": "code",
   "execution_count": 38,
   "metadata": {},
   "outputs": [
    {
     "output_type": "execute_result",
     "data": {
      "text/plain": [
       "-704.7"
      ]
     },
     "metadata": {},
     "execution_count": 38
    }
   ],
   "source": [
    "mean = profit_after_tax.mean()\n",
    "np.around(mean, 2)"
   ]
  },
  {
   "cell_type": "code",
   "execution_count": 39,
   "metadata": {},
   "outputs": [
    {
     "output_type": "execute_result",
     "data": {
      "text/plain": [
       "array([False,  True, False, False, False,  True,  True,  True,  True,\n",
       "       False, False,  True])"
      ]
     },
     "metadata": {},
     "execution_count": 39
    }
   ],
   "source": [
    "good_months = profit_after_tax > mean\n",
    "good_months"
   ]
  },
  {
   "cell_type": "code",
   "execution_count": 40,
   "metadata": {},
   "outputs": [
    {
     "output_type": "execute_result",
     "data": {
      "text/plain": [
       "array([ True, False,  True,  True,  True, False, False, False, False,\n",
       "        True,  True, False])"
      ]
     },
     "metadata": {},
     "execution_count": 40
    }
   ],
   "source": [
    "bad_months = profit_after_tax < mean\n",
    "bad_months"
   ]
  },
  {
   "cell_type": "code",
   "execution_count": 41,
   "metadata": {},
   "outputs": [
    {
     "output_type": "execute_result",
     "data": {
      "text/plain": [
       "6999.49"
      ]
     },
     "metadata": {},
     "execution_count": 41
    }
   ],
   "source": [
    "best_month = profit_after_tax.max()\n",
    "np.around(best_month, 2)"
   ]
  },
  {
   "cell_type": "code",
   "execution_count": 42,
   "metadata": {},
   "outputs": [
    {
     "output_type": "execute_result",
     "data": {
      "text/plain": [
       "-6552.64"
      ]
     },
     "metadata": {},
     "execution_count": 42
    }
   ],
   "source": [
    "worst_month = profit_after_tax.min()\n",
    "np.around(worst_month, 2)"
   ]
  },
  {
   "cell_type": "code",
   "execution_count": 57,
   "metadata": {},
   "outputs": [
    {
     "output_type": "execute_result",
     "data": {
      "text/plain": [
       "['-$1,849',\n",
       " '-$370',\n",
       " '-$6,291',\n",
       " '-$5,666',\n",
       " '-$3,017',\n",
       " '$4,833',\n",
       " '$4,761',\n",
       " '$1,015',\n",
       " '$236',\n",
       " '-$6,552',\n",
       " '-$2,554',\n",
       " '$6,999']"
      ]
     },
     "metadata": {},
     "execution_count": 57
    }
   ],
   "source": [
    "import locale\n",
    "locale.setlocale( locale.LC_ALL, 'en_CA.UTF-8' )\n",
    "profit_formated = [locale.currency(a, grouping=True)[:-3] for a in profit_after_tax]\n",
    "profit_formated"
   ]
  },
  {
   "cell_type": "code",
   "execution_count": 65,
   "metadata": {},
   "outputs": [
    {
     "output_type": "execute_result",
     "data": {
      "text/plain": [
       "['-15%',\n",
       " '-7%',\n",
       " '-51%',\n",
       " '-47%',\n",
       " '-35%',\n",
       " '575%',\n",
       " '145%',\n",
       " '17%',\n",
       " '3%',\n",
       " '-39%',\n",
       " '-25%',\n",
       " '184%']"
      ]
     },
     "metadata": {},
     "execution_count": 65
    }
   ],
   "source": [
    "profit_margin_formated = [str((a * 100).round(0))[:-2] + '%' for a in profit_margin]\n",
    "profit_margin_formated"
   ]
  },
  {
   "cell_type": "code",
   "execution_count": null,
   "metadata": {},
   "outputs": [],
   "source": []
  }
 ],
 "metadata": {
  "kernelspec": {
   "name": "python388jvsc74a57bd0fffbb968abe30d3c3b84404c1d40050d0df55f2f86d233b7acb9a78d55414b92",
   "display_name": "Python 3.8.8 64-bit ('anaconda3': virtualenv)"
  },
  "language_info": {
   "codemirror_mode": {
    "name": "ipython",
    "version": 3
   },
   "file_extension": ".py",
   "mimetype": "text/x-python",
   "name": "python",
   "nbconvert_exporter": "python",
   "pygments_lexer": "ipython3",
   "version": "3.8.8"
  }
 },
 "nbformat": 4,
 "nbformat_minor": 1
}